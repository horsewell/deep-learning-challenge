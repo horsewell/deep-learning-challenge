{
 "cells": [
  {
   "cell_type": "markdown",
   "metadata": {},
   "source": [
    "## Preprocessing"
   ]
  },
  {
   "cell_type": "code",
   "execution_count": null,
   "metadata": {},
   "outputs": [],
   "source": [
    "# Import our dependencies\n",
    "from sklearn.model_selection import train_test_split\n",
    "from sklearn.preprocessing import StandardScaler\n",
    "import matplotlib.pyplot as plt\n",
    "import sklearn as skl\n",
    "import pandas as pd\n",
    "import tensorflow as tf\n"
   ]
  },
  {
   "cell_type": "code",
   "execution_count": null,
   "metadata": {},
   "outputs": [],
   "source": [
    "\n",
    "#  Import and read the charity_data.csv.\n",
    "application_df = pd.read_csv(\"https://static.bc-edx.com/data/dla-1-2/m21/lms/starter/charity_data.csv\")\n",
    "application_df.head()"
   ]
  },
  {
   "cell_type": "code",
   "execution_count": null,
   "metadata": {},
   "outputs": [],
   "source": [
    "# Drop the non-beneficial ID columns, 'EIN' and 'NAME'.\n",
    "application_df.drop(['EIN','NAME'], axis=1, inplace=True)\n",
    "application_df.head()"
   ]
  },
  {
   "cell_type": "code",
   "execution_count": null,
   "metadata": {},
   "outputs": [],
   "source": [
    "# Determine the number of unique values in each column.\n",
    "unique_val = application_df.nunique()\n",
    "unique_val"
   ]
  },
  {
   "cell_type": "code",
   "execution_count": null,
   "metadata": {},
   "outputs": [],
   "source": [
    "def apply_cutoff_to_column(df: pd.DataFrame, column: str, cutoff_value: int, new_val_name: str=\"Other\") -> pd.DataFrame:\n",
    "    \"\"\"Replaces (Bins) values in the `column` where the\n",
    "     count is < `cutoff_value` with `new_val_name`.\n",
    "    \"\"\"\n",
    "    _cols_unique = df[column].unique()\n",
    "    _cols_value_counts = df[column].value_counts()\n",
    "    _vals_to_replace = [x for x in _cols_unique if _cols_value_counts[x] < cutoff_value]\n",
    "    print(f\"Replace with '{new_val_name}': {_vals_to_replace}\")\n",
    "\n",
    "    # Replace in DataFrame\n",
    "    for app in _vals_to_replace:\n",
    "        df[column] = df[column].replace(app, new_val_name)\n",
    "\n",
    "    return df"
   ]
  },
  {
   "cell_type": "code",
   "execution_count": null,
   "metadata": {},
   "outputs": [],
   "source": [
    "# Look at APPLICATION_TYPE value counts for binning\n",
    "v_counts = application_df['APPLICATION_TYPE'].value_counts()\n",
    "v_counts"
   ]
  },
  {
   "cell_type": "code",
   "execution_count": null,
   "metadata": {},
   "outputs": [],
   "source": [
    "# Choose a cutoff value and create a list of application types to be replaced\n",
    "# Check to make sure binning was successfull\n",
    "app_df_cutoffs = apply_cutoff_to_column(application_df, \"APPLICATION_TYPE\", 500)\n",
    "app_df_cutoffs['APPLICATION_TYPE'].value_counts()"
   ]
  },
  {
   "cell_type": "code",
   "execution_count": null,
   "metadata": {},
   "outputs": [],
   "source": [
    "# CLASSIFICATION cutoff = 700\n",
    "app_df_cutoffs = apply_cutoff_to_column(app_df_cutoffs, \"CLASSIFICATION\", 700)\n",
    "app_df_cutoffs['CLASSIFICATION'].value_counts()"
   ]
  },
  {
   "cell_type": "code",
   "execution_count": null,
   "metadata": {},
   "outputs": [],
   "source": [
    "display(application_df[\"AFFILIATION\"].value_counts())\n",
    "display(application_df[\"USE_CASE\"].value_counts())\n",
    "display(application_df[\"ORGANIZATION\"].value_counts())\n",
    "display(application_df[\"INCOME_AMT\"].value_counts())\n",
    "application_df[\"SPECIAL_CONSIDERATIONS\"].value_counts()"
   ]
  },
  {
   "cell_type": "code",
   "execution_count": null,
   "metadata": {},
   "outputs": [],
   "source": [
    "app_df_cutoffs = apply_cutoff_to_column(app_df_cutoffs, \"INCOME_AMT\", 500, \"5M+\")\n",
    "app_df_cutoffs['INCOME_AMT'].value_counts()"
   ]
  },
  {
   "cell_type": "code",
   "execution_count": null,
   "metadata": {},
   "outputs": [],
   "source": [
    "# AFFILIATION cutoff = 1000\n",
    "app_df_cutoffs = apply_cutoff_to_column(app_df_cutoffs, \"AFFILIATION\", 1000)\n",
    "app_df_cutoffs['AFFILIATION'].value_counts()"
   ]
  },
  {
   "cell_type": "code",
   "execution_count": null,
   "metadata": {},
   "outputs": [],
   "source": [
    "# Drop SPECIAL_CONSIDERATIONS\n",
    "# Instead of making it a dummy, it could be very broad and is only true for a tiny percentage (<.1%) of organisations.\n",
    "application_df.drop(\"SPECIAL_CONSIDERATIONS\", axis=1, inplace=True)"
   ]
  },
  {
   "cell_type": "code",
   "execution_count": null,
   "metadata": {},
   "outputs": [],
   "source": [
    "# Convert categorical data to numeric with `pd.get_dummies`\n",
    "application_dummies = pd.get_dummies(application_df, columns=[\"AFFILIATION\", \"USE_CASE\", \"ORGANIZATION\", \"INCOME_AMT\",\n",
    "                                                       \"CLASSIFICATION\", \"APPLICATION_TYPE\"])\n",
    "application_dummies.head()"
   ]
  },
  {
   "cell_type": "code",
   "execution_count": null,
   "metadata": {},
   "outputs": [],
   "source": [
    "# Split our preprocessed data into our features and target arrays\n",
    "X = application_dummies.drop('IS_SUCCESSFUL', axis=1).values\n",
    "y = application_dummies['IS_SUCCESSFUL'].values\n",
    "\n",
    "# Split the preprocessed data into a training and testing dataset\n",
    "#  YOUR CODE GOES HERE\n",
    "X_train, X_test, y_train, y_test = train_test_split(X, y, random_state = 42, stratify=y)"
   ]
  },
  {
   "cell_type": "code",
   "execution_count": null,
   "metadata": {},
   "outputs": [],
   "source": [
    "# Create a StandardScaler instances\n",
    "scaler = StandardScaler()\n",
    "\n",
    "# Fit the StandardScaler\n",
    "X_scaler = scaler.fit(X_train)\n",
    "\n",
    "# Scale the data\n",
    "X_train_scaled = X_scaler.transform(X_train)\n",
    "X_test_scaled = X_scaler.transform(X_test)"
   ]
  },
  {
   "cell_type": "markdown",
   "metadata": {},
   "source": [
    "## Compile, Train and Evaluate the Model"
   ]
  },
  {
   "cell_type": "markdown",
   "metadata": {},
   "source": [
    "## Attempt 1\n",
    "Only the input data/number of features has changed"
   ]
  },
  {
   "cell_type": "code",
   "execution_count": null,
   "metadata": {},
   "outputs": [],
   "source": [
    "# Define the model - deep neural net, i.e., the number of input features and hidden nodes for each layer.\n",
    "num_features = X_train.shape[1]\n",
    "print(\"Features:\", num_features)\n",
    "\n",
    "nn = tf.keras.models.Sequential()\n",
    "\n",
    "# number of neurons should be 2-3 times number of inputs=number of features\n",
    "# there is only 1 output\n",
    "nn.add(tf.keras.layers.Dense(units=num_features*2, activation=\"relu\", input_dim=num_features))\n",
    "nn.add(tf.keras.layers.Dense(units=num_features*2, activation=\"relu\"))\n",
    "nn.add(tf.keras.layers.Dense(units=1, activation=\"sigmoid\"))\n",
    "\n",
    "\n",
    "# Check the structure of the model\n",
    "nn.summary()"
   ]
  },
  {
   "cell_type": "code",
   "execution_count": null,
   "metadata": {},
   "outputs": [],
   "source": [
    "# Compile the model\n",
    "nn.compile(loss=\"binary_crossentropy\", optimizer=\"adam\", metrics=[\"accuracy\"])"
   ]
  },
  {
   "cell_type": "code",
   "execution_count": null,
   "metadata": {},
   "outputs": [],
   "source": [
    "# Train the model\n",
    "fit_model = nn.fit(X_train_scaled, y_train, epochs=50)"
   ]
  },
  {
   "cell_type": "code",
   "execution_count": null,
   "metadata": {},
   "outputs": [],
   "source": [
    "# Evaluate the model using the test data\n",
    "model_loss, model_accuracy = nn.evaluate(X_test_scaled, y_test, verbose=2)\n",
    "print(f\"Loss: {model_loss}, Accuracy: {model_accuracy}\")\n",
    "# save model\n",
    "nn.save(\"models/AlphabetSoupCharity_Optimisation_1.h5\")\n",
    "# plotting the accuracy\n",
    "history_df = pd.DataFrame(fit_model.history, index = range(1, len(fit_model.history['loss'])+1))\n",
    "history_df.plot(y = 'accuracy')"
   ]
  },
  {
   "cell_type": "markdown",
   "metadata": {},
   "source": [
    "## Atempt 2\n",
    "Try using few neurons (< number of features) with sigmoid for non input layer"
   ]
  },
  {
   "cell_type": "code",
   "execution_count": null,
   "metadata": {},
   "outputs": [],
   "source": [
    "NUM_FEATURES = X_train.shape[1]\n",
    "print(\"Features:\", NUM_FEATURES)\n",
    "\n",
    "nn2 = tf.keras.models.Sequential()\n",
    "\n",
    "nn2.add(tf.keras.layers.Dense(units=10, activation=\"relu\", input_dim=NUM_FEATURES))\n",
    "nn2.add(tf.keras.layers.Dense(units=8, activation=\"sigmoid\"))\n",
    "nn2.add(tf.keras.layers.Dense(units=6, activation=\"sigmoid\"))\n",
    "nn2.add(tf.keras.layers.Dense(units=1, activation=\"sigmoid\"))\n",
    "\n",
    "display(nn2.summary())\n",
    "nn2.compile(loss=\"binary_crossentropy\", optimizer=\"adam\", metrics=[\"accuracy\"])"
   ]
  },
  {
   "cell_type": "code",
   "execution_count": null,
   "metadata": {},
   "outputs": [],
   "source": [
    "# Train the model\n",
    "fit_model2 = nn2.fit(X_train_scaled, y_train, epochs=50)"
   ]
  },
  {
   "cell_type": "code",
   "execution_count": null,
   "metadata": {},
   "outputs": [],
   "source": [
    "# Evaluate the model using the test data\n",
    "model_loss2, model_accuracy2 = nn2.evaluate(X_test_scaled, y_test, verbose=2)\n",
    "print(f\"Loss: {model_loss2}, Accuracy: {model_accuracy2}\")\n",
    "# save model\n",
    "nn2.save(\"models/AlphabetSoupCharity_Optimisation_2.h5\")\n",
    "# plotting the accuracy\n",
    "history_df = pd.DataFrame(fit_model2.history, index = range(1, len(fit_model2.history['loss'])+1))\n",
    "history_df.plot(y = 'accuracy')"
   ]
  },
  {
   "cell_type": "markdown",
   "metadata": {},
   "source": [
    "## Attempt 3\n",
    "Many more internal layers"
   ]
  },
  {
   "cell_type": "code",
   "execution_count": null,
   "metadata": {},
   "outputs": [],
   "source": [
    "NUM_FEATURES = X_train.shape[1]\n",
    "print(\"Features:\", NUM_FEATURES)\n",
    "\n",
    "nn3 = tf.keras.models.Sequential()\n",
    "\n",
    "nn3.add(tf.keras.layers.Dense(units=NUM_FEATURES*2, activation=\"relu\", input_dim=NUM_FEATURES))\n",
    "nn3.add(tf.keras.layers.Dense(units=NUM_FEATURES*2, activation=\"relu\"))\n",
    "nn3.add(tf.keras.layers.Dense(units=NUM_FEATURES*2, activation=\"relu\"))\n",
    "nn3.add(tf.keras.layers.Dense(units=NUM_FEATURES*2, activation=\"relu\"))\n",
    "nn3.add(tf.keras.layers.Dense(units=NUM_FEATURES*2, activation=\"relu\"))\n",
    "nn3.add(tf.keras.layers.Dense(units=1, activation=\"sigmoid\"))\n",
    "\n",
    "display(nn3.summary())\n",
    "nn.compile(loss=\"binary_crossentropy\", optimizer=\"adam\", metrics=[\"accuracy\"])"
   ]
  },
  {
   "cell_type": "code",
   "execution_count": null,
   "metadata": {},
   "outputs": [],
   "source": [
    "# Train the model\n",
    "fit_model3 = nn3.fit(X_train_scaled, y_train, epochs=50)"
   ]
  },
  {
   "cell_type": "code",
   "execution_count": null,
   "metadata": {},
   "outputs": [],
   "source": [
    "# Evaluate the model using the test data\n",
    "model_loss3, model_accuracy3 = nn3.evaluate(X_test_scaled, y_test, verbose=2)\n",
    "print(f\"Loss: {model_loss3}, Accuracy: {model_accuracy3}\")\n",
    "# save model\n",
    "nn3.save(\"models/AlphabetSoupCharity_Optimisation_3.h5\")\n",
    "# plotting the accuracy\n",
    "history_df = pd.DataFrame(fit_model3.history, index = range(1, len(fit_model3.history['loss'])+1))\n",
    "history_df.plot(y = 'accuracy')"
   ]
  },
  {
   "cell_type": "markdown",
   "metadata": {},
   "source": [
    "## Attempt 4 - Keras Tuner\n",
    "- Allow activation function to choose between `relu`, `sigmoid`, `tanh`\n",
    "    - `sigmoid` is still the only option for the final layer\n",
    "- Allow number of neurons to vary from 6 to ~75\n",
    "- Allow for 1, 2, or 3 extra hidden layers (not input or output)"
   ]
  },
  {
   "cell_type": "code",
   "execution_count": null,
   "metadata": {},
   "outputs": [],
   "source": [
    "import keras_tuner as kt\n",
    "NUM_FEATURES = X_train.shape[1]\n",
    "print(\"Features:\", NUM_FEATURES)\n",
    "\n",
    "def create_model(hp: kt.HyperParameters) -> tf.keras.models.Sequential:\n",
    "    model = tf.keras.models.Sequential()\n",
    "\n",
    "    # Allow kerastuner to decide which activation function to use in hidden layers\n",
    "    activation = hp.Choice(\"activation\", [\"relu\", \"sigmoid\", \"tanh\"])\n",
    "\n",
    "    # Allow kerastuner to decide number of neurons in first layer\n",
    "    model.add(tf.keras.layers.Dense(units=hp.Int(\"first_units\", 6, NUM_FEATURES*2, step=6),\n",
    "                                    activation=activation,\n",
    "                                    input_dim=NUM_FEATURES))\n",
    "    \n",
    "    # Allow kerastuner to decide number of hidden layers and neurons in hidden layers\n",
    "    for i in range(hp.Int(\"num_layers\", 1, 3)):\n",
    "        model.add(tf.keras.layers.Dense(units=hp.Int('units_' + str(i),\n",
    "            6, NUM_FEATURES*2, step=6), activation=activation))\n",
    "    # output layer\n",
    "    model.add(tf.keras.layers.Dense(units=1, activation=\"sigmoid\"))\n",
    "\n",
    "    # Compile the model\n",
    "    model.compile(loss=\"binary_crossentropy\", optimizer='adam',\n",
    "                  metrics=[\"accuracy\"])\n",
    "    return model\n",
    "\n",
    "tuner = kt.Hyperband(create_model, objective=\"val_accuracy\",\n",
    "                     max_epochs=25, overwrite=True,\n",
    "                     hyperband_iterations=2)"
   ]
  },
  {
   "cell_type": "code",
   "execution_count": null,
   "metadata": {},
   "outputs": [],
   "source": [
    "# Run the kerastuner search for best hyperparameters\n",
    "tuner.search(X_train_scaled, y_train, epochs=25,\n",
    "             validation_data=(X_test_scaled, y_test))"
   ]
  },
  {
   "cell_type": "code",
   "execution_count": null,
   "metadata": {},
   "outputs": [],
   "source": [
    "# Get top 3 model hyperparameters and print the values\n",
    "top_4_hp = tuner.get_best_hyperparameters(3)\n",
    "for hparam in top_4_hp:\n",
    "    print(hparam.values)\n",
    "\n",
    "# Evaluate the top 3 models against the test dataset\n",
    "top_4_model = tuner.get_best_models(3)\n",
    "for model in top_4_model:\n",
    "    model_loss, model_accuracy = model.evaluate(X_test_scaled, y_test, verbose=2)\n",
    "    print(f\"Loss: {model_loss}, Accuracy: {model_accuracy}\")"
   ]
  },
  {
   "cell_type": "code",
   "execution_count": null,
   "metadata": {},
   "outputs": [],
   "source": [
    "best_tuned_model = tuner.get_best_models(1)[0]\n",
    "fit_model4 = best_tuned_model.fit(X_train_scaled, y_train, epochs=50)"
   ]
  },
  {
   "cell_type": "code",
   "execution_count": null,
   "metadata": {},
   "outputs": [],
   "source": [
    "\n",
    "# Evaluate the model using the test data\n",
    "model_loss4, model_accuracy4 = best_tuned_model.evaluate(X_test_scaled, y_test, verbose=2)\n",
    "print(f\"Loss: {model_loss4}, Accuracy: {model_accuracy4}\")\n",
    "# save model\n",
    "best_tuned_model.save(\"models/AlphabetSoupCharity_Optimisation_4.h5\")\n",
    "# plotting the accuracy\n",
    "history_df = pd.DataFrame(fit_model4.history, index = range(1, len(fit_model4.history['loss'])+1))\n",
    "history_df.plot(y = 'accuracy')"
   ]
  },
  {
   "cell_type": "markdown",
   "metadata": {},
   "source": [
    "## Overall Results\n",
    "\n",
    "None of the 4 different attempts at improving accuracy succeeded in passing 75%.\n",
    "\n",
    "All four settled around 72.5-72.8% which is not better than the original 72.8% found in `AlphabetSoupCharity.ipynb`."
   ]
  },
  {
   "cell_type": "markdown",
   "metadata": {},
   "source": [
    "# Attempt 5 - Bin Names\n",
    "\n",
    "Final attempt by preserving `NAME` column.\n",
    "\n",
    "This column could be used to classify already known organizations that have a history with our nonprofit and receiving funding."
   ]
  },
  {
   "cell_type": "code",
   "execution_count": null,
   "metadata": {},
   "outputs": [],
   "source": [
    "# Apply changes from start of notebook onto new instance of data\n",
    "application_df_5 = pd.read_csv(\"https://static.bc-edx.com/data/dl-1-2/m21/lms/starter/charity_data.csv\")\n",
    "# Drop 'EIN' column only\n",
    "application_df_5.drop(\"EIN\", axis=1, inplace=True)\n",
    "# APPLICATION_TYPE cutoff = 500\n",
    "application_df_5 = apply_cutoff_to_column(application_df_5, \"APPLICATION_TYPE\", 500)\n",
    "# CLASSIFICATION cutoff = 500\n",
    "application_df_5 = apply_cutoff_to_column(application_df_5, \"CLASSIFICATION\", 500)\n",
    "# INCOME_AMT cutoff = 500\n",
    "application_df_5 = apply_cutoff_to_column(application_df_5, \"INCOME_AMT\", 500, \"5M+\")\n",
    "# AFFILIATION cutoff = 1000\n",
    "application_df_5 = apply_cutoff_to_column(application_df_5, \"AFFILIATION\", 1000)\n",
    "# Drop SPECIAL_CONSIDERATIONS\n",
    "application_df_5.drop(\"SPECIAL_CONSIDERATIONS\", axis=1, inplace=True)\n",
    "\n",
    "# Apply cutoff to NAME column at 200\n",
    "# NAME could be used to identify already good organizations\n",
    "application_df_5 = apply_cutoff_to_column(application_df_5, \"NAME\", 100)\n",
    "application_df_5[\"NAME\"].nunique()"
   ]
  },
  {
   "cell_type": "code",
   "execution_count": null,
   "metadata": {},
   "outputs": [],
   "source": [
    "# Create dummies\n",
    "application_df_5 = pd.get_dummies(application_df_5, columns=[\"AFFILIATION\", \"USE_CASE\", \"ORGANIZATION\", \"INCOME_AMT\",\n",
    "                                               \"CLASSIFICATION\", \"APPLICATION_TYPE\", \"NAME\"])\n",
    "print(\"New Application df:\", application_df_5.shape)\n",
    "\n",
    "# Split our preprocessed data into our features and target arrays\n",
    "X2 = application_df_5.drop(\"IS_SUCCESSFUL\", axis=1).values\n",
    "y2 = application_df_5[\"IS_SUCCESSFUL\"].values\n",
    "\n",
    "# Split the preprocessed data into a training and testing dataset\n",
    "X2_train, X2_test, y2_train, y2_test = train_test_split(X2, y2, random_state=42, stratify=y2)\n",
    "\n",
    "# Create a StandardScaler instances\n",
    "# Fit the StandardScaler\n",
    "scaler2 = StandardScaler().fit(X2_train)\n",
    "\n",
    "# Scale the data\n",
    "X2_train_scaled = scaler2.transform(X2_train)\n",
    "X2_test_scaled = scaler2.transform(X2_test)\n",
    "\n",
    "X2_train.shape"
   ]
  },
  {
   "cell_type": "code",
   "execution_count": null,
   "metadata": {},
   "outputs": [],
   "source": [
    "# Create model\n",
    "num_features = X2_train.shape[1]\n",
    "print(\"Features:\", num_features)\n",
    "\n",
    "nn5 = tf.keras.models.Sequential()\n",
    "\n",
    "# number of neurons should be 2-3 times number of inputs=number of features\n",
    "# there is only 1 output\n",
    "nn5.add(tf.keras.layers.Dense(units=num_features*2, activation=\"relu\", input_dim=num_features))\n",
    "nn5.add(tf.keras.layers.Dense(units=num_features*2, activation=\"relu\"))\n",
    "nn5.add(tf.keras.layers.Dense(units=num_features, activation=\"relu\"))\n",
    "nn5.add(tf.keras.layers.Dense(units=1, activation=\"sigmoid\"))\n",
    "\n",
    "display(nn5.summary())\n",
    "\n",
    "# Compile the model\n",
    "nn5.compile(loss=\"binary_crossentropy\", optimizer=\"adam\", metrics=[\"accuracy\"])"
   ]
  },
  {
   "cell_type": "code",
   "execution_count": null,
   "metadata": {},
   "outputs": [],
   "source": [
    "# Train the model\n",
    "fit_model5 = nn5.fit(X2_train_scaled, y2_train, epochs=50)"
   ]
  },
  {
   "cell_type": "code",
   "execution_count": null,
   "metadata": {},
   "outputs": [],
   "source": [
    "# Evaluate the model using the test data\n",
    "model_loss5, model_accuracy5 = nn5.evaluate(X2_test_scaled, y2_test, verbose=2)\n",
    "print(f\"Loss: {model_loss5}, Accuracy: {model_accuracy5}\")\n",
    "# save model\n",
    "nn5.save(\"models/AlphabetSoupCharity_Optimisation_5.h5\")\n",
    "# plotting the accuracy\n",
    "history_df = pd.DataFrame(fit_model5.history, index = range(1, len(fit_model5.history['loss'])+1))\n",
    "history_df.plot(y = 'accuracy')"
   ]
  },
  {
   "cell_type": "markdown",
   "metadata": {},
   "source": [
    "This model has passed 75% accuracy."
   ]
  }
 ],
 "metadata": {
  "kernelspec": {
   "display_name": "Python 3 (ipykernel)",
   "language": "python",
   "name": "python3"
  },
  "language_info": {
   "codemirror_mode": {
    "name": "ipython",
    "version": 3
   },
   "file_extension": ".py",
   "mimetype": "text/x-python",
   "name": "python",
   "nbconvert_exporter": "python",
   "pygments_lexer": "ipython3",
   "version": "3.10.13"
  },
  "vscode": {
   "interpreter": {
    "hash": "31f2aee4e71d21fbe5cf8b01ff0e069b9275f58929596ceb00d14d90e3e16cd6"
   }
  }
 },
 "nbformat": 4,
 "nbformat_minor": 4
}
